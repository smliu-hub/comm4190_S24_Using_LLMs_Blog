{
 "cells": [
  {
   "cell_type": "markdown",
   "id": "74e6e762-5613-4cdc-a0eb-5c77c74d01bb",
   "metadata": {},
   "source": [
    "---\n",
    "title: \"Compare different types of ControlNet(1)\"\n",
    "description: \"Controlnet functions\"\n",
    "author: \"Simin LIU\"\n",
    "date: \"5/10/2024\"\n",
    "categories:\n",
    "    - Stable Diffusion\n",
    "    - Depth\n",
    "    - OpenPose\n",
    "---"
   ]
  },
  {
   "cell_type": "markdown",
   "id": "446f0481-e7b8-4755-b1ab-ec0702e6055e",
   "metadata": {},
   "source": [
    "## What is ControlNet"
   ]
  },
  {
   "cell_type": "markdown",
   "id": "965b191e-25a6-4078-9b6f-525744d0af23",
   "metadata": {},
   "source": [
    "ControlNet is a technique used in Stable Diffusion, which is an extension of OpenAI's diffusion models. \n",
    "\n",
    "It is now hard to control what kind of images we get, but ControlNet allows users to precisely control the diffusion process, enabling the manipulation of the output of the model by conditioning it on specific attributes, such as text prompts or images. This helps in generating more tailored and contextually relevant outputs from the model. "
   ]
  },
  {
   "cell_type": "markdown",
   "id": "2bef0d7f-398e-4e80-b47c-aad1b46f637e",
   "metadata": {},
   "source": [
    "There are mainly 5 main ControlNet"
   ]
  },
  {
   "cell_type": "markdown",
   "id": "0a4412b4-4eb5-487f-87b8-f93fd137d62e",
   "metadata": {},
   "source": [
    "## OPenPose"
   ]
  },
  {
   "cell_type": "markdown",
   "id": "4deed72e-85df-4a9e-b520-0e629dff2945",
   "metadata": {},
   "source": [
    "By incorporating OpenPose into ControlNet, the model can better understand and interpret human body poses, enabling more accurate and contextually relevant generation of text or images based on these poses. \n",
    "\n",
    "his integration enhances the capabilities of ControlNet by providing it with richer input data, resulting in more nuanced and tailored outputs."
   ]
  },
  {
   "cell_type": "markdown",
   "id": "32dcb7b4-e7d0-49ff-a12b-7d8cfe12eecd",
   "metadata": {},
   "source": [
    "For example, this is the image and its conresponding image interpreted by Stable Diffusion"
   ]
  },
  {
   "cell_type": "markdown",
   "id": "828caf4d-e6d7-46c8-98c7-e72ff8e4252c",
   "metadata": {},
   "source": [
    "Here is the image that we want the model follows:"
   ]
  },
  {
   "cell_type": "markdown",
   "id": "4f1a9f32-3907-4cc1-8039-196e15967910",
   "metadata": {},
   "source": [
    "<img src=\"1.png\" width=\"80%\"/>"
   ]
  },
  {
   "cell_type": "markdown",
   "id": "935d7f7a-cfed-4774-bdf7-ce91364b7e15",
   "metadata": {},
   "source": [
    "We can use preview function to see how Stable Diffusion intrepret this image:"
   ]
  },
  {
   "cell_type": "markdown",
   "id": "2db8f673-2ea7-4ae7-8ff1-004f80e280a0",
   "metadata": {},
   "source": [
    "<img src=\"2.png\" width=\"80%\"/>"
   ]
  },
  {
   "cell_type": "markdown",
   "id": "a44541dd-a50a-4604-8a4b-68a794d2bee7",
   "metadata": {},
   "source": [
    "It kind of summarizing the image pose and tell us what it will take care of."
   ]
  },
  {
   "cell_type": "markdown",
   "id": "14f58562-df75-411a-b861-ce020bc7d237",
   "metadata": {},
   "source": [
    "Prompt:\n",
    "masterpiece,best quality,1 girl,seaside,beach,full body,beautifully detailed background,cute anime face,masterpiece,color clothing,whole body,glitch lump on face,ultra-detailed,extremely delicate and beautiful,album cover,clear lines,squares,bright,limited palette,chahua,"
   ]
  },
  {
   "cell_type": "markdown",
   "id": "7d24dba8-0544-4f26-8dbf-d34935655550",
   "metadata": {},
   "source": [
    "Negative Prompt:\n",
    "NSFW,logo,text,blurry,low quality,bad anatomy,sketches,lowres,normal quality,monochrome,grayscale,worstquality,signature,watermark,cropped,username,out of focus,bad proportions,"
   ]
  },
  {
   "cell_type": "markdown",
   "id": "1833498f-8b11-48c5-8cae-9c124db0fc6c",
   "metadata": {},
   "source": [
    "Output:"
   ]
  },
  {
   "cell_type": "markdown",
   "id": "cdf9c2d4-fd18-4b3e-91d3-06d83ea8dd6a",
   "metadata": {},
   "source": [
    "<img src=\"3.png\" width=\"80%\"/>"
   ]
  },
  {
   "cell_type": "markdown",
   "id": "a7e6127a-d0eb-49da-8f2f-93619d4ce553",
   "metadata": {},
   "source": [
    "👍 It maintains the pose perfectly in the final pictures, especially this kind of function can help us using images to express what we want. It is actually hard to use words to describe what we want"
   ]
  },
  {
   "cell_type": "markdown",
   "id": "99de8d1b-2883-4b8c-b470-9da5c7538db4",
   "metadata": {},
   "source": [
    "## Depth"
   ]
  },
  {
   "cell_type": "markdown",
   "id": "c8816f8c-d5e3-4797-85e1-bf3443cad50c",
   "metadata": {},
   "source": [
    "By integrating depth data, ControlNet gains a better understanding of the three-dimensional structure of the scene, allowing for more accurate and contextually relevant generation of text or images. \n",
    "\n",
    "This integration enables ControlNet to produce outputs that are not only visually accurate but also spatially coherent, resulting in more realistic and immersive generated content."
   ]
  },
  {
   "cell_type": "markdown",
   "id": "9a214783-7ca0-45d7-907e-fbef59afb226",
   "metadata": {},
   "source": [
    "Here is the image that we ask it to follows."
   ]
  },
  {
   "cell_type": "markdown",
   "id": "b9062034-c5ce-4c10-9a98-08d993ac4028",
   "metadata": {},
   "source": [
    "<img src=\"4.png\" width=\"80%\"/>"
   ]
  },
  {
   "cell_type": "markdown",
   "id": "d89842f4-d065-4a8c-9ec1-33f1ab8e22cd",
   "metadata": {},
   "source": [
    "If we use Depth, and the prompts are:\n",
    "female character,close-up,peaceful expression,flowing black hair,wind effect,home,piano,minimalistic floral pattern,subtle texture,soft shading,gentle brush strokes,serene,simple attire,tranquil mood,ethereal aesthetic,whimsical,light and shadow play,"
   ]
  },
  {
   "cell_type": "markdown",
   "id": "3d56a9cf-692b-439f-98e0-5bf9e696ae5f",
   "metadata": {},
   "source": [
    "Negative Prompts: \n",
    "extra legs,bad feet,cross-eyed,mutated hands and fingers,extra limb,extra arms,mutated hands,poorly drawn hands,malformed hands,too many fingers,fused fingers,missing fingers,acnes,missing limb,bad hands,malformed limbs,floating limbs,skin spots,disconnected limbs,skin blemishes,poorly drawn face,disfigured,ugly,(fat:1.2),Multiple people,(fat:1.2),bad body,mutated,long body,mutation,deformed,long neck,(fat:1.2),"
   ]
  },
  {
   "cell_type": "markdown",
   "id": "eae74b69-5c49-4fac-a4b7-01da48a6fffd",
   "metadata": {},
   "source": [
    "This is how 'depth' understands the image. It shows the different layers of the image, especially her hands position."
   ]
  },
  {
   "cell_type": "markdown",
   "id": "079579e2-f958-4ed5-9e6b-aafd457d1237",
   "metadata": {},
   "source": [
    "<img src=\"8.png\" width=\"80%\"/>"
   ]
  },
  {
   "cell_type": "markdown",
   "id": "c20f50bd-2d51-4bba-8b07-6cfc0837c0b0",
   "metadata": {},
   "source": [
    "This is the output:"
   ]
  },
  {
   "cell_type": "markdown",
   "id": "e0e10dbd-207e-4b7a-869e-d0311131366e",
   "metadata": {},
   "source": [
    "<img src=\"5.png\" width=\"80%\"/>"
   ]
  },
  {
   "cell_type": "markdown",
   "id": "4030a6c2-7b2a-43dc-a62b-a85b58d77637",
   "metadata": {},
   "source": [
    "So great! Especially when we compare it to OpenPose. OpenPose cannot distinguish when one hand is in front of the other."
   ]
  },
  {
   "cell_type": "markdown",
   "id": "81669427-0ced-42af-b5f8-032460247656",
   "metadata": {},
   "source": [
    "Here is what OpenPose gives us. It is definately cannot show what we do"
   ]
  },
  {
   "cell_type": "markdown",
   "id": "157074aa-57fc-4bd0-bd82-83a4954152b5",
   "metadata": {},
   "source": [
    "<img src=\"7.png\" width=\"80%\"/>"
   ]
  },
  {
   "cell_type": "markdown",
   "id": "e03f4351-dade-4470-9450-85f4bb6d7944",
   "metadata": {},
   "source": [
    "<img src=\"6.png\" width=\"80%\"/>"
   ]
  },
  {
   "cell_type": "markdown",
   "id": "2866a92b-84b4-4748-ae1d-57a92d3a881a",
   "metadata": {},
   "source": [
    "## Conclusion"
   ]
  },
  {
   "cell_type": "markdown",
   "id": "c93291b9-28b1-4a7e-b2d1-9e56e393cf09",
   "metadata": {},
   "source": [
    "In conclusion, the integration of ControlNet into Stable Diffusion enhances the model's capabilities by providing more precise control over the generation process. \n",
    "\n",
    "By incorporating techniques such as OpenPose and depth information, ControlNet enables the model to produce more contextually relevant and realistic outputs. \n",
    "\n",
    "ControlNet represents a significant advancement in the field of generative models, and we will explore more in the next post!\n"
   ]
  }
 ],
 "metadata": {
  "citation-manager": {
   "items": {}
  },
  "kernelspec": {
   "display_name": "Python 3.11 (COMM4190)",
   "language": "python",
   "name": "comm4190"
  },
  "language_info": {
   "codemirror_mode": {
    "name": "ipython",
    "version": 3
   },
   "file_extension": ".py",
   "mimetype": "text/x-python",
   "name": "python",
   "nbconvert_exporter": "python",
   "pygments_lexer": "ipython3",
   "version": "3.11.7"
  }
 },
 "nbformat": 4,
 "nbformat_minor": 5
}
