{
 "cells": [
  {
   "cell_type": "raw",
   "id": "078bce79-2eb5-4572-a803-c2fa614725f9",
   "metadata": {},
   "source": [
    "---\n",
    "title: \"Is AI an excellent artist in terms of color?\"\n",
    "description: \"COLOR THEORY\"\n",
    "author: \"Simin LIU\"\n",
    "date: \"2/11/2024\"\n",
    "categories:\n",
    "    - Color\n",
    "    - Diffusion models\n",
    "\n",
    "---"
   ]
  },
  {
   "attachments": {},
   "cell_type": "markdown",
   "id": "82864286-32da-4c4e-b4a0-097ad08724a2",
   "metadata": {},
   "source": [
    "## Is AI an excellent artist?\n",
    "I don’t know 🤷\n",
    "\r\n",
    "But what I do know is that an excellent artist knows COLOR THEOYR ?\n",
    "\n",
    "So, does A understands knowledge of color theoryto  make it an excellent artist??"
   ]
  },
  {
   "cell_type": "markdown",
   "id": "7bbe1169-4769-4b5a-b430-1658cd61ab2b",
   "metadata": {},
   "source": [
    "## Color Theory\n",
    "Color theory can help artist to find the perfect color combination that just seem to work every time.\n",
    "\n",
    "There are many color wheels, and we choose to use The Traditional Color Wheel.\n",
    "\n",
    "<img src=\"wheel.jpeg\" width=\"30%\"/>"
   ]
  },
  {
   "cell_type": "markdown",
   "id": "28afadbf-81d9-41df-ae7b-34f52028f882",
   "metadata": {},
   "source": [
    "Some main concepts in Color Theory:\n",
    "\n",
    "🔴 Monochromatic color: \n",
    "\n",
    "Take one basic color, monochromatic colors the colors that are similar to the basic color.\n",
    "\n",
    "For example, pink's monochromatic colors include:\n",
    "\n",
    "<img src=\"Mono.jpeg\" width=\"30%\"/>\n",
    "    \n",
    "\n"
   ]
  },
  {
   "cell_type": "markdown",
   "id": "b5021230-24a4-40a3-ad81-0398cc7662dc",
   "metadata": {},
   "source": []
  },
  {
   "attachments": {},
   "cell_type": "markdown",
   "id": "d418a2fd-8b6b-4905-90ce-11dd560257fa",
   "metadata": {},
   "source": [
    "🟩 Complimentary colors:\n",
    "\n",
    "Complimentary colors the colors that in the opposite side in the color wheel.\n",
    "\n",
    "For example, pink's monochromatic colors include green:\n",
    "\n",
    "<img src=\"Complimentary.jpg\" width=\"30%\"/>"
   ]
  },
  {
   "cell_type": "code",
   "execution_count": null,
   "id": "9ec1b291-6102-45a8-b344-b01e4aa34146",
   "metadata": {},
   "outputs": [],
   "source": []
  },
  {
   "cell_type": "markdown",
   "id": "9b85fabd-3487-42cb-af7a-e21b1191c9d2",
   "metadata": {},
   "source": [
    "## Do Gemini knows these?\n",
    "\n",
    "## 🚩 Round 1 - Basic Concept Test - Monochromatic colors\n",
    "\n",
    "PROMPT:\n",
    "\n",
    "Generate a cartoon picture with pink and its monochromatic colors\n",
    "\n",
    "RESPONSE:\n",
    "Sure, here's a cartoon picture featuring pink and its monochromatic colors:\n",
    "\n",
    "<img src=\"re1.png\" width=\"50%\"/>\n",
    "\n"
   ]
  },
  {
   "cell_type": "markdown",
   "id": "35d07ea2-f245-43b5-a342-bf51f8593ee6",
   "metadata": {},
   "source": []
  },
  {
   "cell_type": "markdown",
   "id": "d827cea9-5b2c-45ce-989c-113887934af2",
   "metadata": {},
   "source": [
    "Umm! Pretty Good! I love those pictures with various kinds of pinks!\n",
    "\n",
    "Let's try Complementary colors!\n",
    "\n",
    "## 🚩 Round 2 - Basic Concept Test - Complementary colors\n",
    "\n",
    "PROMPT:\n",
    "\n",
    "Generate a cartoon picture with pink and its complementary colors\n",
    "\n",
    "RESPONSE:\n",
    "\n",
    "Sure, here's a cartoon picture featuring pink and its complementary colors:\n",
    "\n",
    "<img src=\"re2.png\" width=\"50%\"/>"
   ]
  },
  {
   "cell_type": "code",
   "execution_count": null,
   "id": "56d6ad54-04ed-4360-9f95-9cc97253caf0",
   "metadata": {},
   "outputs": [],
   "source": []
  },
  {
   "cell_type": "markdown",
   "id": "70c7cf89-3a1b-443a-b50b-4989d5a24aba",
   "metadata": {},
   "source": [
    "Yes! Lots of greens are included! Good job! But it does not mean that it knows what color theory is..."
   ]
  },
  {
   "cell_type": "code",
   "execution_count": null,
   "id": "25d0d4a4-2c05-4c72-a3fa-a634192c0e14",
   "metadata": {},
   "outputs": [],
   "source": []
  },
  {
   "cell_type": "markdown",
   "id": "6051faf9-2f2c-48c7-8c31-17e4a778040d",
   "metadata": {},
   "source": [
    "I then ask Gemini to replace colors to monochromatic colors and complementary colors 😎"
   ]
  },
  {
   "cell_type": "markdown",
   "id": "079d7b1c-22a8-4c23-a886-7f102cf69b8a",
   "metadata": {},
   "source": [
    "## 🚩 Round 3 - Replacement Creation Test - Monochromatic colors\n",
    "\n",
    "First, give me some pictures!\n",
    "\n",
    "\n",
    "PROMPT:\n",
    "\n",
    "Create a valentines day cartoon theme pictures using only pink and gray.\n",
    "\n",
    "\n",
    "RESPONSE:\n",
    "\n",
    "Sure, here are some Valentine's Day cartoon theme pictures using only pink and gray:\n",
    "\n",
    "<img src=\"re3.png\" width=\"50%\"/>"
   ]
  },
  {
   "cell_type": "markdown",
   "id": "8edb0179-ef32-4f1e-bc84-1138e250f72c",
   "metadata": {},
   "source": [
    "I chose the last one, since Gemini cannot help with images of people yet 🤦‍♂🤦‍♂\n",
    "<img src=\"useless.png\" width=\"50%\"/>"
   ]
  },
  {
   "cell_type": "code",
   "execution_count": null,
   "id": "03b89a54-b005-4846-83cb-a3bb38566f8c",
   "metadata": {},
   "outputs": [],
   "source": []
  },
  {
   "cell_type": "markdown",
   "id": "18423135-db6b-4cef-9a34-1b5928d16ac0",
   "metadata": {},
   "source": [
    "PROMPT:\n",
    "\n",
    "create a new picture which only change the grey color in the originial one using monochromatic colors in color theory\n",
    "\n",
    "<img src=\"Main.jpeg\" width=\"50%\"/>\n",
    "\n",
    "RESPONSE:\n",
    "\n",
    "Sure, here is a new picture that only changes the gray color in the original one using monochromatic colors in color theory:\n",
    "\n",
    "<img src=\"re4.png\" width=\"50%\"/>"
   ]
  },
  {
   "cell_type": "markdown",
   "id": "591bf94f-a503-45f7-9eb7-8bf2474054e5",
   "metadata": {},
   "source": [
    "I was surprised!!!🤩🤩 Super good! Even though some features in the pictures are changed. \n",
    "\n",
    "I changed a picture and ask it again."
   ]
  },
  {
   "cell_type": "markdown",
   "id": "94c2dec6-2d78-4022-bab7-d3b7f3a15266",
   "metadata": {},
   "source": [
    "## 🚩 Round 3.1 - Replacement Creation Test - Monochromatic colors\n",
    "\n",
    "PROMPT:\n",
    "\n",
    "Based on the original pictures, create a new image that ONLY change the grey color to monochromatic colors in color theory. Do not change other things in the image.\n",
    "\n",
    "<img src=\"Image2.png\" width=\"50%\"/>\n",
    "\n",
    "\n",
    "RESPONSE:\n",
    "\n",
    "Sure, here is the image you requested:\n",
    "\n",
    "<img src=\"re5.png\" width=\"50%\"/>\n",
    "\n",
    "\n"
   ]
  },
  {
   "cell_type": "markdown",
   "id": "a766976b-d7b2-427b-9c64-9f1019d8437c",
   "metadata": {},
   "source": [
    "What?!!!!😱😱😱\n",
    "\n",
    "It scared me!!! 😨\n",
    "\n",
    "No. Try again Gemini 😠 I gave it the one that works well before again.\n",
    "\n",
    "## 🚩 Round 3.2 - Replacement Creation Test - Monochromatic colors\n",
    "\n",
    "PROMPT:\n",
    "\n",
    "create a new picture which only change the grey color in the originial one using monochromatic colors in color theory\n",
    "\n",
    "\n",
    "RESPONSE:\n",
    "\n",
    "Sure, here is a new image where the grey color has been transformed into a monochromatic color scheme, keeping everything else the same:\n",
    "\n",
    "<img src=\"re6.png\" width=\"50%\"/>\n"
   ]
  },
  {
   "cell_type": "markdown",
   "id": "215ab325-6649-46a7-a818-317b5ee55892",
   "metadata": {},
   "source": [
    "I can't believe it!!\n",
    "\n",
    "I think it is the machine stucks. It may still know the concepts of Color Theory 👨‍🎓"
   ]
  },
  {
   "cell_type": "code",
   "execution_count": null,
   "id": "3e59f2d4-71e4-495b-aff2-f73df8a80580",
   "metadata": {},
   "outputs": [],
   "source": []
  },
  {
   "attachments": {},
   "cell_type": "markdown",
   "id": "b4b803ed-bb4c-442c-b460-cf375729419e",
   "metadata": {},
   "source": [
    "## 🚩 Round 4 - Recreation Test - Complementary colors\r\n",
    "\r\n",
    "❗ I started a new conversation with Gemini.\r\n",
    "\r\n",
    "\r\n",
    "PROMPT:\r\n",
    "\r\n",
    "create a new picture which only changeathe grey color in theoriginial onecomplementaryromatic colors in color\n",
    "tse the same:\r\n"
   ]
  },
  {
   "cell_type": "markdown",
   "id": "6a4c6d57-0d83-4e54-9ac3-61a4ffa4d14f",
   "metadata": {},
   "source": [
    "<img src=\"Main.jpeg\" width=\"50%\"/>\n",
    "\n",
    "RESPONSE:\n",
    "\n",
    "Sure, here is a new image based on the painting you sent, with the gray areas replaced with their complementary colors according to color theory:\n",
    "\n",
    "<img src=\"re7.png\" width=\"50%\"/>\n",
    "\n",
    "\n",
    "It does not have green at all!\n",
    "\n",
    "Do you really know complementary colors?? 😕\n",
    "\n",
    "Or actually it knows what complementary colors are. But just cannot replace gray with the complementary colors? ❓"
   ]
  },
  {
   "cell_type": "markdown",
   "id": "9af245a6-f431-46fe-9364-914b2071c5c4",
   "metadata": {},
   "source": [
    "## 🚩 Round 5  - Test model's color replacement ability\n",
    "\n",
    "PROMPT:\n",
    "\n",
    "add green color to the pictures to replace the gray\n",
    "<img src=\"Main.jpeg\" width=\"50%\"/>\n",
    "\n",
    "\n",
    "RESPONSE:\n",
    "\n",
    "Sure, here is an image with the gray areas replaced with green:\n",
    "\n",
    "<img src=\"re8.png\" width=\"50%\"/>\n",
    "\n",
    "\n",
    "\n",
    "\n",
    "Oh Gemini, you actually know how to replace color in pictures. But you cannot change color to a monochromatic color."
   ]
  },
  {
   "cell_type": "markdown",
   "id": "3e2d57ce-9edc-4a37-9ae9-4da3c1e02e21",
   "metadata": {},
   "source": [
    "## 🔚 Conclusion\n",
    "\n",
    "Go back to our question: \n",
    "Does AI understand color theory?\n",
    "\n",
    "The answer is:\n",
    "\n",
    "NO 🙅‍♂🙅‍♀ (At least for Gemini on Feb 11, 2024) \n",
    "\n",
    "\n",
    "\n",
    "Explanations:\n",
    "\n",
    "🟡 From Round 1 and 2, it can retrieve the knowledge of color theory for me. But this ability cannot prove it really understand color theory.\n",
    "\n",
    "\n",
    "🟣 From Round 5, we know that it actually can replace gray color with the green color. \n",
    "\n",
    "❗ But Round 4 implies that Gemini actually do no know which is the complementary colors of pink.\n",
    "\n",
    "## AI (refers to Gemini) is not an excellent artist for now. "
   ]
  }
 ],
 "metadata": {
  "citation-manager": {
   "items": {}
  },
  "kernelspec": {
   "display_name": "Python 3.11 (COMM4190)",
   "language": "python",
   "name": "comm4190"
  },
  "language_info": {
   "codemirror_mode": {
    "name": "ipython",
    "version": 3
   },
   "file_extension": ".py",
   "mimetype": "text/x-python",
   "name": "python",
   "nbconvert_exporter": "python",
   "pygments_lexer": "ipython3",
   "version": "3.11.7"
  }
 },
 "nbformat": 4,
 "nbformat_minor": 5
}
