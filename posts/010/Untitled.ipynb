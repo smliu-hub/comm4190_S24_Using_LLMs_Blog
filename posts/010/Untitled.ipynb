{
 "cells": [
  {
   "cell_type": "markdown",
   "id": "93fd9029-4f3b-4233-827d-5fc88f00073e",
   "metadata": {},
   "source": [
    "---\n",
    "title: \"Compare different types of ControlNet(2)\"\n",
    "description: \"Controlnet functions\"\n",
    "author: \"Simin LIU\"\n",
    "date: \"5/15/2024\"\n",
    "categories:\n",
    "    - Stable Diffusion\n",
    "    - Canny\n",
    "    - OpenPose\n",
    "---"
   ]
  },
  {
   "cell_type": "raw",
   "id": "48155784-3d6a-4b7e-ad12-d7ec828afdb7",
   "metadata": {},
   "source": [
    "## What is Canny"
   ]
  },
  {
   "cell_type": "markdown",
   "id": "8e5facde-7464-4deb-bbc8-9b7c97dddd50",
   "metadata": {},
   "source": [
    "By incorporating Canny edge detection into ControlNet, the model gains a better understanding of the structural elements within an image, enabling it to produce outputs that are more visually coherent and contextually relevant. \n",
    "\n",
    "This integration enhances the model's ability to generate realistic and detailed images, making it a valuable addition to the ControlNet framework."
   ]
  },
  {
   "cell_type": "markdown",
   "id": "39d5bdda-eea0-4644-bd4c-7d646fe87bc8",
   "metadata": {},
   "source": [
    "For example, this is the image and its corresponding image interpreted by Stable Diffusion"
   ]
  }
 ],
 "metadata": {
  "citation-manager": {
   "items": {}
  },
  "kernelspec": {
   "display_name": "Python 3.11 (COMM4190)",
   "language": "python",
   "name": "comm4190"
  },
  "language_info": {
   "codemirror_mode": {
    "name": "ipython",
    "version": 3
   },
   "file_extension": ".py",
   "mimetype": "text/x-python",
   "name": "python",
   "nbconvert_exporter": "python",
   "pygments_lexer": "ipython3",
   "version": "3.11.7"
  }
 },
 "nbformat": 4,
 "nbformat_minor": 5
}
