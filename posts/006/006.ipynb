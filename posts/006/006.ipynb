{
 "cells": [
  {
   "cell_type": "raw",
   "id": "392e4b4d-025b-4301-b0f1-445554491ad9",
   "metadata": {},
   "source": [
    "---\n",
    "title: \"How to recreate the same style as in that image 2\"\n",
    "description: \"Reverse Engineering images\"\n",
    "author: \"Simin LIU\"\n",
    "date: \"2/25/2024\"\n",
    "categories:\n",
    "    - DALL·E 3\n",
    "    - Diffusion models\n",
    "---"
   ]
  },
  {
   "cell_type": "markdown",
   "id": "14de45dd-58a2-4c3c-8009-036bee5dae52",
   "metadata": {},
   "source": [
    "Welcome the the second post of 'How to recreate the same style as in that image'\n",
    "\n",
    "❗❗❗If you haven't checked the first post, I STRONGLY RECOMMEND that you do so. It will help you understand what I am doing here!"
   ]
  },
  {
   "cell_type": "markdown",
   "id": "0edd7aa5-e6d1-4e44-8ab3-b0d8bfd1c102",
   "metadata": {},
   "source": [
    "## Try Midjourney AGAIN!!\n",
    "🟡 Step 1: Go to a server with Midjourney Chatbot\n",
    "\n",
    "🟠 Step 2: Upload an image\n",
    "<img src=\"1.png\" width=\"80%\"/>\n",
    "\n",
    "🔴 Step 3: Get the URL of the image\n",
    "\n",
    "<img src=\"2.png\" width=\"40%\"/>\n",
    "\n",
    "❤️ Step 4: Write a new prompt with the URL\n",
    "<img src=\"3.png\" width=\"100%\"/>\n",
    "\n",
    "Output:\n",
    "\n",
    "<img src=\"R1.png\" width=\"80%\"/>\n",
    "\n",
    "Great! It is much better than before. Give a sample image is very useful in Midjourney\n",
    "\n",
    "\n",
    "## Generate image with similar style\n",
    "\n",
    "How about hange 'house' to 'pen'?\n",
    "\n",
    "🚩 TEST1\n",
    "\n",
    "Prompt:\n",
    "https://cdn.discordapp.com/attachments/1212025668125335603/1212035358167011479/house.png?ex=65f05ee3&is=65dde9e3&hm=2195ea3ad22f1a4577588d38a662cc326a64e5ddcbab520757dd7ad3870ac2d4&  outline of a sketch of a pen, bold black outlines, pictogram, based on child's drawing, easy to understand, in the style of simplistic characters, clipart --ar 12:13 --v 3\n",
    "\n",
    "Output:\n",
    "<img src=\"R2.png\" width=\"80%\"/>\n",
    "\n",
    "??? I tried the same prompt again!\n",
    "\n",
    "Output:\n",
    "<img src=\"R3.png\" width=\"80%\"/>\n",
    "\n",
    "Too bad!! I will change its style using But it is midjourney V6\n",
    "\n",
    "\n",
    "🚩 TEST2\n",
    "\n",
    "Prompt:\n",
    "\n",
    "outline of a sketch of a pen, bold black outlines, pictogram, based on child's drawing, easy to understand, in the style of simplistic characters, clipart --sref https://s.mj.run/aE_vSstFjZQ --ar 12:13 \n",
    "\n",
    "Output:\n",
    "<img src=\"R4.png\" width=\"80%\"/>\n",
    "\n",
    "Super good!\n",
    "\n",
    "## 🔚 Conclusion\n",
    "Use style change in v6! Even though you are creating simple image!"
   ]
  }
 ],
 "metadata": {
  "citation-manager": {
   "items": {}
  },
  "kernelspec": {
   "display_name": "Python 3.11 (COMM4190)",
   "language": "python",
   "name": "comm4190"
  },
  "language_info": {
   "codemirror_mode": {
    "name": "ipython",
    "version": 3
   },
   "file_extension": ".py",
   "mimetype": "text/x-python",
   "name": "python",
   "nbconvert_exporter": "python",
   "pygments_lexer": "ipython3",
   "version": "3.11.7"
  }
 },
 "nbformat": 4,
 "nbformat_minor": 5
}
