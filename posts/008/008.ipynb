{
 "cells": [
  {
   "cell_type": "code",
   "execution_count": null,
   "id": "a7108022-60d6-4af0-a9f5-effabfbf26b9",
   "metadata": {},
   "outputs": [],
   "source": [
    "---\n",
    "title: \"Use CFG in Stable Diffusion\"\n",
    "description: \"What CFG can do?\"\n",
    "author: \"Simin LIU\"\n",
    "date: \"5/1/2024\"\n",
    "categories:\n",
    "    - Stable Diffusion\n",
    "    - Diffusion models\n",
    "---"
   ]
  },
  {
   "cell_type": "markdown",
   "id": "b72134cd-f428-4e6c-966d-cc44d7ebd256",
   "metadata": {},
   "source": [
    "## 🤔 What is CFG"
   ]
  },
  {
   "cell_type": "markdown",
   "id": "b2b1aef2-20d3-471e-983f-e6a6f7e641bc",
   "metadata": {},
   "source": [
    "CFG is a function that is 'Classifier Free Guidance scale'. Frankly, it controls how relevant the image to your prompts. If CFG is very low, AI can be more free to draw the image."
   ]
  },
  {
   "cell_type": "markdown",
   "id": "34f1f259-f91a-4b8a-be7f-ca1143c4590c",
   "metadata": {},
   "source": [
    "### 🎨 Let's Try different ranges of CFG!"
   ]
  },
  {
   "cell_type": "markdown",
   "id": "80d37a52-fc69-497d-be9c-bd27b26b6566",
   "metadata": {},
   "source": [
    "Prompts: \n",
    "\n",
    "half-body, realistic, RAW photo, masterpiece, best quality, 8K, insane details, intricate details, hyper-detailed, intricate details, hyper quality, dynamic angle, (centered, 1.3), advanced lighting, master lighting, film grain, front view, (1 black cat, 1.2), yellow eyes, cowboy hat, (cyborg, Mech Suit, 1.1), mechanical ears, simple background, desert, night,"
   ]
  },
  {
   "cell_type": "markdown",
   "id": "faf591f3-8a1b-4e44-8e15-f79cdaa61a22",
   "metadata": {},
   "source": [
    "Negative Prompts:\n",
    "\n",
    "people,nsfw,paintings,cartoon,anime,sketches,worst quality,low quality,normal quality,lowres,watermark,monochrome,grayscale,ugly,blurry,"
   ]
  },
  {
   "cell_type": "markdown",
   "id": "31946afd-d114-4613-b845-f761f641ea45",
   "metadata": {},
   "source": [
    "This is what we get in CFG Scale:3.0"
   ]
  },
  {
   "cell_type": "markdown",
   "id": "b4d81fc5-e0b6-45a5-8c1e-091b007d3c25",
   "metadata": {},
   "source": [
    "<img src=\"3.0.png\" width=\"80%\"/>"
   ]
  },
  {
   "cell_type": "markdown",
   "id": "aeb76e17-d249-48ba-9a42-d4770a54b802",
   "metadata": {},
   "source": [
    "This is what we get in CFG Scale:5.0"
   ]
  },
  {
   "cell_type": "markdown",
   "id": "876d984e-c06f-4892-a3b2-bf3dd678675b",
   "metadata": {},
   "source": [
    "<img src=\"5.0.png\" width=\"80%\"/>"
   ]
  },
  {
   "cell_type": "markdown",
   "id": "bd707e3c-d28f-46cd-a2e2-babb074a6271",
   "metadata": {},
   "source": [
    "This is what we get in CFG Scale:7.0"
   ]
  },
  {
   "cell_type": "markdown",
   "id": "9804d372-fc8f-445b-9ae6-3766725e585b",
   "metadata": {},
   "source": [
    "<img src=\"7.0.png\" width=\"80%\"/>"
   ]
  },
  {
   "cell_type": "markdown",
   "id": "dc0b0241-be93-46cd-bd1e-e7911d2daace",
   "metadata": {},
   "source": [
    "This is what we get in CFG Scale:10.0"
   ]
  },
  {
   "cell_type": "markdown",
   "id": "152c07d3-d93d-4839-9cac-6aacb0bcf452",
   "metadata": {},
   "source": [
    "<img src=\"10.0.png\" width=\"80%\"/>"
   ]
  },
  {
   "cell_type": "markdown",
   "id": "15875e98-64ee-444c-9fea-557f98225057",
   "metadata": {},
   "source": [
    "This is what we get in CFG Scale:15.0"
   ]
  },
  {
   "cell_type": "markdown",
   "id": "771946a9-2f62-48a2-8958-1daa0ca7feb6",
   "metadata": {},
   "source": [
    "<img src=\"15.0.png\" width=\"80%\"/>"
   ]
  },
  {
   "cell_type": "markdown",
   "id": "4e26218f-1e3c-4adc-92a8-ac4cf9eb9d70",
   "metadata": {},
   "source": [
    "This is what we get in CFG Scale:20.0"
   ]
  },
  {
   "cell_type": "markdown",
   "id": "daa58c1a-85a8-4918-94dd-1e3aa48f284e",
   "metadata": {},
   "source": [
    "As the number of the CFG increases, the model's output demonstrates a greater adherence to the given prompt. \n",
    "\n",
    "In our example, we observe a noticeable shift towards desert-related content, with a closer adherence to the given prompt.\n",
    "\n",
    "This suggests that the model's expanded capacity allows it to better understand and integrate the thematic elements provided in the prompt, resulting in more contextually relevant output."
   ]
  },
  {
   "cell_type": "markdown",
   "id": "ccd8bffb-73d6-4745-bebe-0256894a8f82",
   "metadata": {},
   "source": [
    "## 😯 So? The Higher CFG the Better?"
   ]
  },
  {
   "cell_type": "markdown",
   "id": "4876a545-beab-4b59-8dc5-8800675ad50e",
   "metadata": {},
   "source": [
    "No.\n",
    "\n",
    "The increase in CFG doesn't necessarily mean the image can become better. A higher CFG will make the image contrast too high."
   ]
  },
  {
   "cell_type": "markdown",
   "id": "9bcee6a6-19d8-48d8-8c4a-b6fe1aed7e81",
   "metadata": {},
   "source": [
    "Moreover, different models have their own better CFGs suitable for them."
   ]
  },
  {
   "cell_type": "markdown",
   "id": "aa6f0987-fcf6-40ea-8690-22e3311507cf",
   "metadata": {},
   "source": [
    "## Usually CFG Scale is from 7 to 10 with detailed prompts."
   ]
  }
 ],
 "metadata": {
  "citation-manager": {
   "items": {}
  },
  "kernelspec": {
   "display_name": "Python 3.11 (COMM4190)",
   "language": "python",
   "name": "comm4190"
  },
  "language_info": {
   "codemirror_mode": {
    "name": "ipython",
    "version": 3
   },
   "file_extension": ".py",
   "mimetype": "text/x-python",
   "name": "python",
   "nbconvert_exporter": "python",
   "pygments_lexer": "ipython3",
   "version": "3.11.7"
  }
 },
 "nbformat": 4,
 "nbformat_minor": 5
}
