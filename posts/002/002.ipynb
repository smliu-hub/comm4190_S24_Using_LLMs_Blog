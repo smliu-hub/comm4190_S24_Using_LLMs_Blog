{
 "cells": [
  {
   "cell_type": "raw",
   "id": "078bce79-2eb5-4572-a803-c2fa614725f9",
   "metadata": {},
   "source": [
    "---\n",
    "title: \"Hello World\"\n",
    "description: \"A brand new life\"\n",
    "author: \"Simin LIU\"\n",
    "date: \"2/7/2024\"\n",
    "categories:\n",
    "  - test\n",
    "---"
   ]
  },
  {
   "cell_type": "markdown",
   "id": "82864286-32da-4c4e-b4a0-097ad08724a2",
   "metadata": {},
   "source": [
    "## A visualization problem for LLMs\n",
    "* Read the following and see if you can answer the question:\n",
    "\n",
    "> There are three boxes in a stack. A pink one, a purple one and a green one. The pink one is in the middle of the stack with the purple below it. What is the color of the box on the bottom of the stack?"
   ]
  },
  {
   "cell_type": "markdown",
   "id": "7bbe1169-4769-4b5a-b430-1658cd61ab2b",
   "metadata": {},
   "source": [
    "**This is my dream company!!**  \n",
    "<img src=\"Disney.jpg\" width=\"100%\"/>"
   ]
  },
  {
   "cell_type": "markdown",
   "id": "b5021230-24a4-40a3-ad81-0398cc7662dc",
   "metadata": {},
   "source": [
    "<img src=\"Disneyy.jpg\" width=\"100%\"/>\n",
    "\n",
    "<img src=\"Pixarr.jpeg\" width=\"100%\"/>"
   ]
  },
  {
   "cell_type": "markdown",
   "id": "d418a2fd-8b6b-4905-90ce-11dd560257fa",
   "metadata": {},
   "source": [
    "## But it is also good to take a rest, and see ..\n",
    "<img src=\"Bing.jpg\" width=\"100%\"/>"
   ]
  }
 ],
 "metadata": {
  "citation-manager": {
   "items": {}
  },
  "kernelspec": {
   "display_name": "Python 3.11 (COMM4190)",
   "language": "python",
   "name": "comm4190"
  },
  "language_info": {
   "codemirror_mode": {
    "name": "ipython",
    "version": 3
   },
   "file_extension": ".py",
   "mimetype": "text/x-python",
   "name": "python",
   "nbconvert_exporter": "python",
   "pygments_lexer": "ipython3",
   "version": "3.11.7"
  }
 },
 "nbformat": 4,
 "nbformat_minor": 5
}
