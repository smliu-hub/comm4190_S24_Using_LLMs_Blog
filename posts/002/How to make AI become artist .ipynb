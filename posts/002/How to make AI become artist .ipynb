{
 "cells": [
  {
   "cell_type": "raw",
   "id": "fd3aa337-d2b9-44ce-aeec-823a76bc1157",
   "metadata": {},
   "source": [
    "---\n",
    "title: \"The Secret of AI Generated LOGO: Emoji (1)\"\n",
    "description: \"See how Emoji can help\"\n",
    "author: \"Simin LIU\"\n",
    "date: \"2/22/2024\"\n",
    "categories:\n",
    "    - DALL·E 3\n",
    "    - Diffusion models\n",
    "\n",
    "---\n"
   ]
  },
  {
   "cell_type": "markdown",
   "id": "de6358e6-7af1-4f29-883e-7fec7c04220e",
   "metadata": {},
   "source": [
    "Using emoji in DALL·E 3 is a very cool and magical thing to do!\n",
    "\n",
    "and one day, I saw a Youtube Video from Matt Wolfe, teaching us how generate LOGO in AI!\n",
    "\n",
    "## How Matt Wolfe generate LOGO Using AI?\n",
    "\n",
    "From Matt Wolfe, his prompt:\n",
    "<img src=\"prompt1.png\" width=\"100%\"/>\n",
    "\n",
    "and results!\n",
    "<img src=\"1.png\" width=\"60%\"/>\n",
    "\n",
    "He also mentioned some key prompt that he uses:\n",
    "<img src=\"main.png\" width=\"100%\"/>\n",
    "\n",
    "😯 How about using Matt's tips with emoji to generate LOGOs?"
   ]
  },
  {
   "cell_type": "markdown",
   "id": "4ba80366-a9c6-4f62-b840-7d44be0a7d4c",
   "metadata": {},
   "source": [
    "## Using Emoji to create Logo: Adding Key Prompt"
   ]
  },
  {
   "cell_type": "markdown",
   "id": "1b59ac6d-5784-4e9c-a5ef-aced3da757a4",
   "metadata": {},
   "source": [
    "📒 Note: We use DALL·E 3!!\n",
    "\n",
    "Following Matt Wolfe's prompt, I wrote:\n",
    "\n",
    "Prompt: \n",
    "☕️👨⭕️, vector logo, simple, a coffee company called Wolfman Coffee, white background\n",
    "\n",
    "Output:\n",
    "<img src=\"R1.png\" width=\"60%\"/>\n",
    "\n",
    "-- Too bad! Try again. We also need to specify how many logos you want in a sheet\n",
    "\n",
    "\n",
    "🚩 ROUND 2-\n",
    "\n",
    "Prompt: \n",
    "☕️👨⭕️, 4 separate vector logo, simple, a coffee company called Wolfman Coffee, white background\n",
    "\n",
    "Output:\n",
    "<img src=\"R2.png\" width=\"60%\"/>\n",
    "\n",
    "-- There is no man (as requested by emoji) in the image. The prompt contains too many details.\n",
    "\n",
    "\n",
    "🚩 ROUND 3-\n",
    "\n",
    "Prompt: \n",
    "☕️👨⭕️, 4 separate vector logo, simple, Wolfman Coffee, white background\n",
    "\n",
    "Output:\n",
    "<img src=\"R3.png\" width=\"60%\"/>\n",
    "\n",
    "-- Yes! It can understand if there is no sign saying the company is named Wolfman Coffee. It can also combine coffee, man and wolf together\n",
    "\n"
   ]
  },
  {
   "cell_type": "markdown",
   "id": "c40dbd90-b0c6-42c4-8388-9cb37c8ccff6",
   "metadata": {},
   "source": [
    "## Can machine recognizes different kinds of emojis?\n",
    "\n",
    "Prompt: \n",
    "🌷, 4 separate vector logo, simple, Flora, white background\n",
    "\n",
    "Output:\n",
    "<img src=\"R5.png\" width=\"60%\"/>\n",
    "\n",
    "Yes! It looks like tulips. See the response from GPT to DALL·E 3.\n",
    "\n",
    "Create four separate vector logos each depicting a different species of flora. The designs should be simple yet elegant, portraying the unique characteristics of each species. All four logos should be set against a plain white background, emphasizing the clean lines and simplicity of the design. The flowers should be beautifully detailed, bringing out each petal's distinct features, while remaining minimalist in style.\n",
    "\n",
    "-- Oh, it does not recognize it is tulips. The model maybe just generate some flowers that is similar to emoji 🤔🤔\n",
    "\n",
    "But it is not LOGO and it does not contain the brand name (Flora)!! 🆘🆘\n",
    "\n",
    "Try again!\n",
    "\n",
    "\n",
    "\n",
    "\n",
    "\n",
    "🚩 ROUND 2-\n",
    "\n",
    "Prompt:  \n",
    "🌹, 4 logo, color, vector, add text: Floa, simple, white background\n",
    "\n",
    "Output:\n",
    "<img src=\"R6.png\" width=\"60%\"/>\n",
    "\n",
    "\n",
    "See the response from GPT to DALL·E 3.\n",
    "\n",
    "Create a simple vector image with a white background. This image should primarily feature four distinct logos, and each logo should incorporate designs inspired by roses. Additionally, include the text 'Floa' in a tasteful manner within the image. Every logo and the text should have a distinguishable color to create a visually harmonious image.\n",
    "\n",
    "Amazing 🎉！\n",
    "-- It not only recognizes red color, but also knows it is rose!\n",
    "\n",
    "\n",
    "## Does model recognize emoji's color?\n",
    "\n",
    "Prompt: \n",
    "🌼, 4 logo, color, vector, add text: Floa, simple, white background\n",
    "\n",
    "Output:\n",
    "<img src=\"R7.png\" width=\"60%\"/>\n",
    "\n",
    "Prompt: \n",
    "🌸, 4 logo, color, vector, add text: Floa, simple, white background\n",
    "\n",
    "Output:\n",
    "<img src=\"R8.png\" width=\"60%\"/>\n",
    "\n",
    "-- Even though the second one recognize color of the flowers, but it is better that we specify what color do we need in logo rather than depending on the emoji's color 😂😂\n"
   ]
  },
  {
   "cell_type": "code",
   "execution_count": null,
   "id": "463230de-95b4-4940-93cd-6859b407d81a",
   "metadata": {},
   "outputs": [],
   "source": []
  },
  {
   "cell_type": "markdown",
   "id": "dbb4a38e-84cc-43ea-95fd-98564a59062d",
   "metadata": {},
   "source": [
    "## 🔚Conclusion: How to use emoji effectively in LOGO design? (1)\n",
    "\n",
    "Key Takeaways:\n",
    "\n",
    "1️⃣ specify how many logos you want in a sheet\n",
    "\n",
    "2️⃣ The machine can be easily distracted by other words, do not use add too many details\n",
    "(less than 12 words expecting parameters)\n",
    "\n",
    "3️⃣ If there are multiple logos, the models can also combine them together\n",
    "\n",
    "4️⃣ Emoji's color and shape can influence the results. But for color, it is better to specify it using words\n",
    "\n",
    "\n",
    "👋👋 See you in The Secret of AI Generated LOGO: Emoji (2)!!!\n"
   ]
  },
  {
   "cell_type": "code",
   "execution_count": null,
   "id": "f0893063-b35e-4e36-90ab-14c86eefdfee",
   "metadata": {},
   "outputs": [],
   "source": []
  },
  {
   "cell_type": "code",
   "execution_count": null,
   "id": "958e9ccf-170b-46e1-90a1-6a85c002e09e",
   "metadata": {},
   "outputs": [],
   "source": []
  },
  {
   "cell_type": "code",
   "execution_count": null,
   "id": "890fde21-9593-4d87-8a49-8e0786f5ee19",
   "metadata": {},
   "outputs": [],
   "source": []
  },
  {
   "cell_type": "code",
   "execution_count": null,
   "id": "dec26048-0c58-4aa6-9cc7-4a18582f4b89",
   "metadata": {},
   "outputs": [],
   "source": []
  },
  {
   "cell_type": "markdown",
   "id": "dbd0560f-e015-4c66-b1bb-cf764c62fa27",
   "metadata": {},
   "source": []
  }
 ],
 "metadata": {
  "citation-manager": {
   "items": {}
  },
  "kernelspec": {
   "display_name": "Python 3.11 (COMM4190)",
   "language": "python",
   "name": "comm4190"
  },
  "language_info": {
   "codemirror_mode": {
    "name": "ipython",
    "version": 3
   },
   "file_extension": ".py",
   "mimetype": "text/x-python",
   "name": "python",
   "nbconvert_exporter": "python",
   "pygments_lexer": "ipython3",
   "version": "3.11.7"
  }
 },
 "nbformat": 4,
 "nbformat_minor": 5
}
