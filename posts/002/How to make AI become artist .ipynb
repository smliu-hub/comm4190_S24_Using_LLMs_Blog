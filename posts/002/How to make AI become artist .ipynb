{
 "cells": [
  {
   "cell_type": "code",
   "execution_count": null,
   "id": "3e678efb-e602-45d3-a64c-7326587070ba",
   "metadata": {},
   "outputs": [],
   "source": [
    "---\n",
    "title: \"How to make AI become an artist?\"\n",
    "description: \"Set the system\"\n",
    "author: \"Simin LIU\"\n",
    "date: \"2/13/2024\"\n",
    "categories:\n",
    "    - Diffusion models\n",
    "\n",
    "---"
   ]
  },
  {
   "cell_type": "markdown",
   "id": "de6358e6-7af1-4f29-883e-7fec7c04220e",
   "metadata": {},
   "source": [
    "## How to make AI become an artist?\n",
    "\n",
    "If AI cannot acutually understand the basic theory of painting, can they probably still become an artist?  \n",
    "\n",
    "How about change our prompt?\n",
    "\n"
   ]
  }
 ],
 "metadata": {
  "citation-manager": {
   "items": {}
  },
  "kernelspec": {
   "display_name": "Python 3.11 (COMM4190)",
   "language": "python",
   "name": "comm4190"
  },
  "language_info": {
   "codemirror_mode": {
    "name": "ipython",
    "version": 3
   },
   "file_extension": ".py",
   "mimetype": "text/x-python",
   "name": "python",
   "nbconvert_exporter": "python",
   "pygments_lexer": "ipython3",
   "version": "3.11.7"
  }
 },
 "nbformat": 4,
 "nbformat_minor": 5
}
