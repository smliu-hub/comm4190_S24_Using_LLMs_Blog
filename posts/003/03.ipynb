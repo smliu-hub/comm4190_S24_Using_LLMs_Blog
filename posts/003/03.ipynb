{
 "cells": [
  {
   "cell_type": "raw",
   "id": "d72b0d35-da28-44df-858f-a69ce86c19dc",
   "metadata": {},
   "source": [
    "---\n",
    "title: \"The Secret of AI Generated LOGO: Emoji (2)\"\n",
    "description: \"See how Emoji can help\"\n",
    "author: \"Simin LIU\"\n",
    "date: \"4/9/2024\"\n",
    "categories:\n",
    "    - DALL·E 3\n",
    "    - Midjourney\n",
    "    - Diffusion models\n",
    "---"
   ]
  },
  {
   "cell_type": "markdown",
   "id": "ec7e6502-e103-40d2-823e-41b14270d1f6",
   "metadata": {},
   "source": [
    "Welcome! \n",
    "\n",
    "In the last post, we discussed many tips about using emoji to generate LOGO. \n",
    "Today, we will see how adjectives and sequence of emoji influence the generated image. \n",
    "\n",
    "## Adding adjectives to emoji\n",
    "\n",
    "Prompt:\n",
    "☕️handsome👨⭕️, 4 separate vector logos, simple, Wolfman Coffee, white background\n",
    "\n",
    "Output:\n",
    "<img src=\"R4.png\" width=\"60%\"/>\n",
    "\n",
    "It works! But maybe it is because handsome is used for describing man. \n",
    "\n",
    "-- Every word in the prompt can tell the model what should be included. Like Wolfman contains 'Wolf', so there will be element about wolf. Handsome, similarly, it is used for describing man, so there will be man. \n",
    "\n",
    "-- using adjective that is mainly used for one object can works really well\n",
    "\n",
    "\n",
    "\n",
    "🚩 ROUND 2-\n",
    "\n",
    "I am trying to add very general adjectives to emoji and see how it goes.\n",
    "See this logo for bookstore. It make me think about 'inspiring' 'knowledgeable'\n",
    "\n",
    "<img src=\"bookstore.png\" width=\"60%\"/>\n",
    "\n",
    "\n",
    "\n",
    "Prompt: \n",
    "inspiring📖, 4 separate vector logos, simple, add text: Cool Book, white background\n",
    "\n",
    "OutPut:\n",
    "<img src=\"R9.png\" width=\"60%\"/>\n",
    "\n",
    "Prompt:\n",
    "knowledgeable 📖, 4 separate vector logos, simple, add text: Cool Book, white background\n",
    "\n",
    "Output:\n",
    "<img src=\"R10.png\" width=\"60%\"/>\n",
    "\n",
    "-- It really gets the meaning of adjective and successfully adds it to the emoji it!!!! Surprisingly!"
   ]
  },
  {
   "cell_type": "code",
   "execution_count": null,
   "id": "0888af81-6685-4251-a31d-fd62958dc805",
   "metadata": {},
   "outputs": [],
   "source": []
  },
  {
   "cell_type": "markdown",
   "id": "9d5d4f47-0a7b-4401-8b69-0d9f88b5db2c",
   "metadata": {},
   "source": [
    "## The sequence of emoji in the prompt\n",
    "\n",
    "As the first example shows, it seems that if ⭕ comes the last and will become background.\n",
    "\n",
    "\n",
    "Let's try a different sequence and see how it goes\n",
    "\n",
    "🚩 ROUND 1 & 2-\n",
    "\n",
    "Prompt: \n",
    "⭕️☕️👨, 4 separate vector logos, simple, Wolfman Coffee, white background\n",
    "\n",
    "Output:\n",
    "<img src=\"R11.png\" width=\"60%\"/>\n",
    "\n",
    "Prompt: \n",
    "☕️👨⭕, 4 separate vector logos, simple, Wolfman Coffee, white background\n",
    "\n",
    "Output:\n",
    "<img src=\"R12.png\" width=\"60%\"/>\n",
    "\n",
    "-- Compare these two, I found that circle in the logo can be more invisible when ⭕ is put on the first place\n",
    "\n",
    "🚩 ROUND 3-\n",
    "\n",
    "How about change 👨 to the first? I wonder wheather there will be wolf again?\n",
    "Prompt: \n",
    "👨☕️⭕, 4 separate vector logos, simple, Wolfman Coffee, white background\n",
    "\n",
    "Output:\n",
    "<img src=\"R13.png\" width=\"60%\"/>\n",
    "-- Yes! The first emoji, which is a man, is very salient and noticeable in the picture.\n",
    "\n"
   ]
  },
  {
   "cell_type": "markdown",
   "id": "791635a3-1209-4386-a448-c46514d33497",
   "metadata": {},
   "source": [
    "## 🔚Conclusion: How to use emoji effectively in LOGO design? (2)\n",
    "\n",
    "Key Takeaways:\n",
    "\n",
    "1️⃣ adding adjective(s) in front of the emoji. As for adjective, the more specific to objects you want, the better.\n",
    "\n",
    "2️⃣ If you want the shape of the logo be more invisible, make it become the last emoji in your prompt, vise versa. \n",
    "\n",
    "3️⃣ If you want the element be more salient in the logo , make it become the last emoji in your prompt, vise versa.\n"
   ]
  },
  {
   "cell_type": "code",
   "execution_count": null,
   "id": "8c8bf419-dc67-42b3-8844-8ae06da5de96",
   "metadata": {},
   "outputs": [],
   "source": []
  }
 ],
 "metadata": {
  "citation-manager": {
   "items": {}
  },
  "kernelspec": {
   "display_name": "Python 3.11 (COMM4190)",
   "language": "python",
   "name": "comm4190"
  },
  "language_info": {
   "codemirror_mode": {
    "name": "ipython",
    "version": 3
   },
   "file_extension": ".py",
   "mimetype": "text/x-python",
   "name": "python",
   "nbconvert_exporter": "python",
   "pygments_lexer": "ipython3",
   "version": "3.11.7"
  }
 },
 "nbformat": 4,
 "nbformat_minor": 5
}
