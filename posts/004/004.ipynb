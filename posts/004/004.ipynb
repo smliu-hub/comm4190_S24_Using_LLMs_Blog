{
 "cells": [
  {
   "cell_type": "raw",
   "id": "167227a5-2979-48ea-8130-2066b3bcf788",
   "metadata": {},
   "source": [
    "---\n",
    "title: \"The Secret of AI Generated LOGO: Emoji (3)\"\n",
    "description: \"See how Emoji can help\"\n",
    "author: \"Simin LIU\"\n",
    "date: \"4/13/2024\"\n",
    "categories:\n",
    "    - DALL·E 3\n",
    "    - Diffusion models\n",
    "---"
   ]
  },
  {
   "cell_type": "markdown",
   "id": "e7fab9b6-3041-4f4f-8c65-2c4c1f0e5a02",
   "metadata": {},
   "source": [
    "## Do GPT-4 understands emoji?"
   ]
  },
  {
   "cell_type": "markdown",
   "id": "0842db0a-45cc-496d-8be3-f58ab0a81393",
   "metadata": {},
   "source": [
    "😯 Let's first compare GPT-4's definition and related emoji!\n",
    "\n",
    "1️⃣ Prompt: \n",
    "What is a book?\n",
    "\n",
    "Output: \n",
    "'A book is a collection of printed, written, or blank sheets, usually fastened together to hinge at one side. It is a written or printed'\n",
    "\n",
    "\n",
    "\n",
    "2️⃣ Prompt: \n",
    "What is a 📚?\n",
    "\n",
    "Output: \n",
    "'A 📚 is an emoji symbolizing a book or books. It is often used in digital communication to represent reading, learning, or education.'\n",
    "\n",
    "👉 Fairly good! It seems like GPT-4 knows what emoji means.\n",
    "\n",
    "Compare to word's definition, explanation of emojis will tend to focus more on representation meanings of emojis."
   ]
  },
  {
   "cell_type": "markdown",
   "id": "2628eef5-6ecc-4fec-9592-0954ab00b7c9",
   "metadata": {},
   "source": [
    "## Compare prompts with words and prompts with emojis!\n",
    "📒 Note: We use DALL·E 3!!\n",
    "\n",
    "🔴 Prompts with only words \n",
    "Prompt:\n",
    "books, 4 logos, color, vector, add text: mapwithmind, simple, white background\n",
    "\n",
    "Output:\n",
    "<img src=\"R1.png\" width=\"60%\"/>\n",
    "\n",
    "Response from GPT:\n",
    "create an image containing four books spaced evenly on a plain white background. Each book should be depicted with a unique logo on its cover, with the logos being simple and designed in a vector style. Each logo should feature a different splash of color. Overlay the text 'mapwithmind' on the image.\n",
    "\n",
    "\n",
    "🔺 Prompts with emojis\n",
    "Prompt:\n",
    "📚, 4 logo, color, vector, add text: mapwithmind, simple, white background\n",
    "\n",
    "Output:\n",
    "<img src=\"R2.png\" width=\"60%\"/>\n",
    "\n",
    "Response from GPT:\n",
    "Design four distinct logos in color vector style on a simple white background. Incorporate the text 'mapwithmind' creatively into each design. Each logo should evoke an imaginative yet straightforward concept.\n",
    "\n",
    "👉 DALL·E 3 understands words better than emojis:\n",
    "In the response for Prompts with emojis, it even does not mention books!!\n",
    "\n",
    "But for Prompts with only words, both the background and the logos are related to books!"
   ]
  },
  {
   "cell_type": "markdown",
   "id": "95ed3be0-9dba-4095-98b1-7a5648c47a4e",
   "metadata": {},
   "source": [
    "## Fun usage of emojis to recreate famous companies logos\n",
    "\n",
    "🛒 Amazon:\n",
    "\n",
    "Prompt:\n",
    "smile, 4 logo, vector, add text: amazon, simple, white background\n",
    "\n",
    "Output:\n",
    "<img src=\"amazon1.png\" width=\"60%\"/>\n",
    "\n",
    "Response from GPT:\n",
    "Create a vector image featuring a symbolic illustration of a smile. Introduce four stylized logos that do not infringe any copyright, keeping them simple and making sure they contain elements reminiscent of online marketplace symbols. Incorporate the text 'Amazon Rainforest', creating a clear distinction to avoid possible copyright issues. Maintain a simple white background for the whole composition.\n",
    "\n",
    "👉  Wow! It takes cares of copyright issues, so it changes to 'Amazon Rainforest; and 'creating a clear distinction to avoid possible copyright issues'\n",
    "\n",
    "It knows what amazon is, so also includes online marketplace\n",
    "\n",
    "Prompt:\n",
    "🙂, 4 logo, vector, add text: amazon, simple, white background\n",
    "\n",
    "Output:\n",
    "<img src=\"R3.png\" width=\"60%\"/>\n",
    "\n",
    "Response from GPT:\n",
    "Create a simple vector design that displays a sequence of four (4) distinct logos. Each logo should be creatively arranged in a visually appealing format on a white backdrop. Incorporate the word 'amazon' within the logo designs, ensuring the text is established harmoniously with the overall aesthetic.\n",
    "\n",
    "👉 Surprisingly, there is no smile information in the response!\n"
   ]
  }
 ],
 "metadata": {
  "citation-manager": {
   "items": {}
  },
  "kernelspec": {
   "display_name": "Python 3.11 (COMM4190)",
   "language": "python",
   "name": "comm4190"
  },
  "language_info": {
   "codemirror_mode": {
    "name": "ipython",
    "version": 3
   },
   "file_extension": ".py",
   "mimetype": "text/x-python",
   "name": "python",
   "nbconvert_exporter": "python",
   "pygments_lexer": "ipython3",
   "version": "3.11.7"
  }
 },
 "nbformat": 4,
 "nbformat_minor": 5
}
